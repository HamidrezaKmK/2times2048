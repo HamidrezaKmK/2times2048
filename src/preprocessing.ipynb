{
  "cells": [
    {
      "cell_type": "markdown",
      "metadata": {
        "id": "view-in-github",
        "colab_type": "text"
      },
      "source": [
        "<a href=\"https://colab.research.google.com/github/HamidrezaKmK/2times2048/blob/master/src/preprocessing.ipynb\" target=\"_parent\"><img src=\"https://colab.research.google.com/assets/colab-badge.svg\" alt=\"Open In Colab\"/></a>"
      ]
    },
    {
      "cell_type": "markdown",
      "source": [
        "# Preprocessing\n",
        "\n",
        "\n",
        "Preprocessing the images is a standard procedure that is done on panoramic\n",
        "images. In this section, we highlight the importance of tuning the dynamic\n",
        "range of panoramic images and try to come up with a method to unify the input\n",
        "image's dynamic range.\n",
        "\n",
        "The following two images show an analogy between the images from Dr Shahab\n",
        "dataset and the Brazillian UFBA dataset.\n",
        "\n",
        "![UFBA dataset vs Dr. Shahab dataset.](https://github.com/zlab-foss/dental/blob/master/figs/UFBAvsDrShahab.png?raw=1)\n",
        "\n",
        "The following shows a comparison between the dynamic range of two datasets.\n",
        "500 random images are extracted from both datasets and the distribution of their\n",
        "pixel intensities are compared in the following histogram.\n",
        "\n",
        "![Comparing the histograms.](https://github.com/zlab-foss/dental/blob/master/figs/HistogramComparison.png?raw=1)\n",
        "\n",
        "As shown in the histogram, Dr. Shahab's database contains a larger range of\n",
        "pixel intensities whilst the UFBA dataset only contains a limited range.\n",
        "\n",
        "### Manual image tuning\n",
        "\n",
        "In this section, we will tune the images from Dr. Shahab dataset using the\n",
        "following parameters in GIMP:\n",
        "- Exposure\n",
        "- Brightness\n",
        "- Contrast\n",
        "- Gamma\n",
        "- Pixel intensity mapping\n",
        "\n",
        "The left image is an overexposed image from DrShahab database (drsh_2021_03_381)\n",
        "where the edges of the roots for tooth no. 41 and 47 are either over-exposed or faded.\n",
        "By changing the gamma factor to 0.37, it can be seen that the edges are better\n",
        "defined and a distinction can be made betweem the root of tooth 41 and its\n",
        "gingival surrounding.\n",
        "\n",
        "<p float=\"left\">\n",
        "<img src=\"https://github.com/zlab-foss/dental/blob/master/figs/over_exposed_drsh_2021_03_381.jpeg?raw=1\" width=\"500\" />\n",
        "<img src=\"https://github.com/zlab-foss/dental/blob/master/figs/over_exposed_gamma_manipulated_drsh_2021_03_381.jpeg?raw=1\" width=\"500\" />\n",
        "</p>\n",
        "\n",
        "The following photos show changes on brightness, contrast, and exposure on\n",
        "a certain photo. The left side shows a sample data drawn from Dr. Shahab\n",
        "dataset and the second one is produced by increasing the brightness to 50%,\n",
        "the third one is produced by increasing the contrast by 35% and the last one\n",
        "is caused by reducing the exposure by 0.42; all of these changes are done\n",
        "manually in GIMP. As it can be seen, such subtle changes can greatly affect\n",
        "the way we perceive the image and therefore models can use these changes\n",
        "to their advantage.\n",
        "\n",
        "<p float=\"left\">\n",
        "<img src=\"https://github.com/zlab-foss/dental/blob/master/figs/test_drsh_2021_03_385.jpeg?raw=1\" width=\"230\" />\n",
        "<img src=\"https://github.com/zlab-foss/dental/blob/master/figs/test_brightness_50p_drsh_2021_03_385.jpeg?raw=1\" width=\"230\" />\n",
        "<img src=\"https://github.com/zlab-foss/dental/blob/master/figs/test_contrast35_drsh_2021_03_385.jpeg?raw=1\" width=\"230\" />\n",
        "<img src=\"https://github.com/zlab-foss/dental/blob/master/figs/test_exposure_042_drsh_2021_03_385.jpeg?raw=1\" width=\"230\" />\n",
        "</p>\n",
        "\n",
        "We can also straght-up map each pixel intensity to another. The following\n",
        "figure does so using a pixel mapping curve:\n",
        "\n",
        "<p float=\"left\">\n",
        "<img src=\"https://github.com/zlab-foss/dental/blob/master/figs/test_drsh_2021_03_385.jpeg?raw=1\" width=\"500\"/>\n",
        "<img src=\"https://github.com/zlab-foss/dental/blob/master/figs/change_curve.png?raw=1\" width=\"500\"/>\n",
        "</p>\n",
        "\n",
        "## Unifying dynamic ranges\n",
        "\n",
        "We aim to obtain a unified space for images we denote by $\\Gamma$.\n",
        "Assume that the model is trained to do sementic segmentation and\n",
        "analysis on images in $\\Gamma$; for example, this could be the images\n",
        "obtained from the UFBA dataset. However, images from different datasets\n",
        "may have different dynamic ranges and the model might not be able to\n",
        "do the semantic segmentation task with these images coming from a different\n",
        "device. That being said, we aim to create a model $M$ that receives an image\n",
        "from an arbitrary device and maps it to $\\Gamma$.\n",
        "\n",
        "### Histogram equalization\n",
        "In the remainder, we can explore different ways of addressing this problem.\n",
        "A simple way is to perform a mapping between different pixel intensities; which\n",
        "is known as **histogram equalization**. In this method, assume we are\n",
        "trying to obtain a mapping from images coming from $\\Gamma'$ to\n",
        "$\\Gamma$. We may approximate the Cumulative Density Function (CDF) \n",
        "of pixel intensities ranging from 0 to 255 for each of the $\\Gamma$\n",
        "and $\\Gamma'$; we can refer to these CDF functions as $F$ and $F'$.\n",
        "Intensity $x$ from the first dataset is mapped to $F'^{-1} o F(x)$.\n",
        "Using this simple method we may obtain images similar to $\\Gamma$ from\n",
        "$\\Gamma'$."
      ],
      "metadata": {
        "id": "KDw3MskgsnfP"
      }
    },
    {
      "cell_type": "code",
      "source": [
        "### YOU SHOULD HAVE ACCESS TO THE DATABASE TO RUN THE FOLLOWING CODES ###\n",
        "\n",
        "# Mount on drive for google colab use\n",
        "from google.colab import drive\n",
        "drive.mount('/content/drive')"
      ],
      "metadata": {
        "id": "YcPsq7qDudY-",
        "outputId": "28ce4677-01d0-4d0b-a10f-52245b0bf963",
        "colab": {
          "base_uri": "https://localhost:8080/"
        }
      },
      "execution_count": 9,
      "outputs": [
        {
          "output_type": "stream",
          "name": "stdout",
          "text": [
            "Drive already mounted at /content/drive; to attempt to forcibly remount, call drive.mount(\"/content/drive\", force_remount=True).\n"
          ]
        }
      ]
    },
    {
      "cell_type": "code",
      "source": [
        "!ls"
      ],
      "metadata": {
        "id": "OonkefLMu_E0",
        "outputId": "f483f074-373f-4341-94bd-7313b08d3a2c",
        "colab": {
          "base_uri": "https://localhost:8080/"
        }
      },
      "execution_count": 6,
      "outputs": [
        {
          "output_type": "stream",
          "name": "stdout",
          "text": [
            "drive  sample_data\n"
          ]
        }
      ]
    },
    {
      "cell_type": "markdown",
      "source": [
        "The following code reads 200 samples from Dr. Shahab dataset and 200 samples from UFBA dataset randomly and displays one sample from the selected."
      ],
      "metadata": {
        "id": "zd6MxBf6vq7I"
      }
    },
    {
      "cell_type": "code",
      "source": [
        "from cv2 import cv2\n",
        "import numpy as np\n",
        "import matplotlib.pyplot as plt\n",
        "import math\n",
        "import os\n",
        "import random\n",
        "\n",
        "# Change to a directory containing Dr.Shahab images:\n",
        "path_to_dr_shahab = '/content/drive/MyDrive/WORK/Dr Shahab/2021_01/' \n",
        "\n",
        "shahab_images = os.listdir(path_to_dr_shahab)\n",
        "# Change to a directory containing the UFBA images\n",
        "path_to_brazil = '/content/drive/MyDrive/WORK/UFBA/all_images/'\n",
        "\n",
        "brazil_images = os.listdir(path_to_brazil)\n",
        "\n",
        "samples_shahab = []\n",
        "samples_brazil = []\n",
        "sample_size_shahab = min(len(shahab_images), 200)\n",
        "sample_size_brazil = min(len(brazil_images), 200)\n",
        "\n",
        "for x in random.sample(shahab_images, sample_size_shahab):\n",
        "  samples_shahab.append(cv2.imread(path_to_dr_shahab + x, cv2.IMREAD_GRAYSCALE))\n",
        "for x in random.sample(brazil_images, sample_size_brazil):\n",
        "  samples_brazil.append(cv2.imread(path_to_brazil + x, cv2.IMREAD_GRAYSCALE))\n",
        "\n",
        "plt.imshow(samples_shahab[0], cmap='gray')\n",
        "plt.show()\n",
        "plt.imshow(samples_brazil[0], cmap='gray')\n",
        "plt.show()\n"
      ],
      "metadata": {
        "id": "pqh_sxJatleL",
        "outputId": "65cf5bd1-2905-4830-f01c-f1c1441de4bd",
        "colab": {
          "base_uri": "https://localhost:8080/",
          "height": 244
        }
      },
      "execution_count": 10,
      "outputs": [
        {
          "output_type": "error",
          "ename": "FileNotFoundError",
          "evalue": "ignored",
          "traceback": [
            "\u001b[0;31m---------------------------------------------------------------------------\u001b[0m",
            "\u001b[0;31mFileNotFoundError\u001b[0m                         Traceback (most recent call last)",
            "\u001b[0;32m<ipython-input-10-b9a13aa449cf>\u001b[0m in \u001b[0;36m<module>\u001b[0;34m()\u001b[0m\n\u001b[1;32m      9\u001b[0m \u001b[0mpath_to_dr_shahab\u001b[0m \u001b[0;34m=\u001b[0m \u001b[0;34m'/content/drive/MyDrive/WORK/Dr Shahab/2021_01/'\u001b[0m\u001b[0;34m\u001b[0m\u001b[0;34m\u001b[0m\u001b[0m\n\u001b[1;32m     10\u001b[0m \u001b[0;34m\u001b[0m\u001b[0m\n\u001b[0;32m---> 11\u001b[0;31m \u001b[0mshahab_images\u001b[0m \u001b[0;34m=\u001b[0m \u001b[0mos\u001b[0m\u001b[0;34m.\u001b[0m\u001b[0mlistdir\u001b[0m\u001b[0;34m(\u001b[0m\u001b[0mpath_to_dr_shahab\u001b[0m\u001b[0;34m)\u001b[0m\u001b[0;34m\u001b[0m\u001b[0;34m\u001b[0m\u001b[0m\n\u001b[0m\u001b[1;32m     12\u001b[0m \u001b[0;31m# Change to a directory containing the UFBA images\u001b[0m\u001b[0;34m\u001b[0m\u001b[0;34m\u001b[0m\u001b[0;34m\u001b[0m\u001b[0m\n\u001b[1;32m     13\u001b[0m \u001b[0mpath_to_brazil\u001b[0m \u001b[0;34m=\u001b[0m \u001b[0;34m'/content/drive/MyDrive/WORK/UFBA/all_images/'\u001b[0m\u001b[0;34m\u001b[0m\u001b[0;34m\u001b[0m\u001b[0m\n",
            "\u001b[0;31mFileNotFoundError\u001b[0m: [Errno 2] No such file or directory: '/content/drive/MyDrive/WORK/Dr Shahab/2021_01/'"
          ]
        }
      ]
    },
    {
      "cell_type": "markdown",
      "source": [
        "Run the following piece of code to get the cdf function from both randomly sampled data."
      ],
      "metadata": {
        "id": "P5reLYyZv_s1"
      }
    },
    {
      "cell_type": "code",
      "source": [
        "from tqdm import tqdm\n",
        "\n",
        "def get_cdf(list_of_images):\n",
        "  \"\"\"\n",
        "  Gets a list of images and returns the cdf of the intensity distribution\n",
        "  \"\"\"\n",
        "  cdf = np.zeros(256)\n",
        "  for img in tqdm(list_of_images):\n",
        "    cdf += np.pad(np.bincount(img), 256, 'constant')\n",
        "  cdf = cdf.astype('float64')\n",
        "  cdf /= cdf.sum()\n",
        "  for i in range(1, len(cdf)):\n",
        "    cdf[i] += cdf[i-1]\n",
        "  return cdf"
      ],
      "metadata": {
        "id": "S2JsSWMCvov-"
      },
      "execution_count": null,
      "outputs": []
    },
    {
      "cell_type": "code",
      "source": [
        "cdf_brazil = get_cdf(samples_brazil)\n",
        "cdf_shahab = get_cdf(samples_shahab)"
      ],
      "metadata": {
        "id": "cFLjRcANwIa3"
      },
      "execution_count": null,
      "outputs": []
    },
    {
      "cell_type": "markdown",
      "source": [
        "Next, we try to obtain a histogram equalization mapping between the two dataset using the method described above."
      ],
      "metadata": {
        "id": "QggXdjEjwKlq"
      }
    },
    {
      "cell_type": "code",
      "source": [
        "shahab_to_brazil = np.zeros(256)\n",
        "pnt = 0\n",
        "for i in range(256):\n",
        "  while pnt < 256 and cdf_brazil[pnt] < cdf_shahab[i]:\n",
        "    pnt += 1\n",
        "  shahab_to_brazil[i] = pnt\n",
        "  if pnt == 256 or (pnt > 0 and abs(cdf_brazil[pnt-1] - cdf_shahab[i]) < \n",
        "                    abs(cdf_brazil[pnt] - cdf_shahab[i])):\n",
        "    shahab_to_brazil[i] = pnt - 1"
      ],
      "metadata": {
        "id": "fx2ikLVswS0i"
      },
      "execution_count": null,
      "outputs": []
    },
    {
      "cell_type": "markdown",
      "source": [
        "Finally, we display an image from Dr. Shahab database and a random image from UFBA dataset; afterward, we map each pixel from the first image to obtain a similar dynamic range to UFBA."
      ],
      "metadata": {
        "id": "ZmchgpqQwdlx"
      }
    },
    {
      "cell_type": "code",
      "source": [
        "img = samples_shahab[0]\n",
        "plt.imshow(img, cmap='gray')\n",
        "plt.show()\n",
        "img_standard = np.random.sample(samples_brazil, 1)[0]\n",
        "plt.imshow(img_standard, cmap='gray')\n",
        "plt.show()\n",
        "def convert(mapping, img_input):\n",
        "  img_output = np.zeros_like(img_input)\n",
        "  for x in range(img_output.shape[0]):\n",
        "    for y in range(img_output.shape[1]):\n",
        "      img_output[x, y] = mapping[img_input[x,y]]\n",
        "  return img_output\n",
        "img_standardized = convert(shahab_to_brazil, img)\n",
        "plt.imshow(img_standardized, cmap='gray')\n",
        "plt.show()"
      ],
      "metadata": {
        "id": "DFHhcc8rwaFP"
      },
      "execution_count": null,
      "outputs": []
    }
  ],
  "metadata": {
    "kernelspec": {
      "display_name": "Python 3",
      "language": "python",
      "name": "python3"
    },
    "language_info": {
      "codemirror_mode": {
        "name": "ipython",
        "version": 2
      },
      "file_extension": ".py",
      "mimetype": "text/x-python",
      "name": "python",
      "nbconvert_exporter": "python",
      "pygments_lexer": "ipython2",
      "version": "2.7.6"
    },
    "colab": {
      "name": "preprocessing.ipynb",
      "provenance": [],
      "include_colab_link": true
    }
  },
  "nbformat": 4,
  "nbformat_minor": 0
}